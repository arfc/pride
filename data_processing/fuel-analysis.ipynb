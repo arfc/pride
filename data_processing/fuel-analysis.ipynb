{
 "cells": [
  {
   "cell_type": "code",
   "execution_count": 2,
   "metadata": {},
   "outputs": [],
   "source": [
    "import numpy as np"
   ]
  },
  {
   "cell_type": "markdown",
   "metadata": {},
   "source": [
    "# Temoa's model\n",
    "\n",
    "## Hydrogen cost:\n",
    "* \\$ 13.11/kg [1](https://cafcp.org/content/cost-refill): 2019 price of hydrogen in Californian re-fuelling stations.\n",
    "* \\$ 6/kg [2](https://www.powermag.com/how-much-will-hydrogen-based-power-cost/): hydrogen cost from electrolysis in 2020 (region not specified).\n",
    "* \\$ 4/kg [3](https://www.energy.gov/sites/prod/files/2017/11/f46/HPTT%20Roadmap%20FY17%20Final_Nov%202017.pdf): DOE's target.\n",
    "\n",
    "## Energy equivalence:\n",
    "\n",
    "equivalence = alternative_economy [mpge]/ conventional_economy [mpg] * to_gge\n",
    "\n",
    "alternative_economy [mpge] = range/capacity/to_gge\n",
    "\n",
    "* conventional_economy [Gasoline]: 30 mpg [1](https://theicct.org/sites/default/files/publications/EV_cost_2020_2030_20190401.pdf)\n",
    "* EVs: range = 250 mi, battery pack = 75 kWh, to_gge = 0.031 gallons/kWh [1](https://theicct.org/sites/default/files/publications/EV_cost_2020_2030_20190401.pdf)\n",
    "* FCEVs (based on Toyota 2021 Mirai): range = 650 km, tank = 5.6 kg, to_gge = 1.0 gallons/kg [2](https://h2.live/en/wasserstoffautos/toyota-mirai#:~:text=The%20carbon%20fibre%2Dreinforced%20plastic,a%20range%20of%20500%20km)"
   ]
  },
  {
   "cell_type": "code",
   "execution_count": 13,
   "metadata": {},
   "outputs": [
    {
     "name": "stdout",
     "output_type": "stream",
     "text": [
      "107.52688172043011  mpge\n",
      "72.09405501330967  mpge\n"
     ]
    }
   ],
   "source": [
    "ev_economy = 250/75/0.031\n",
    "print(ev_economy, ' mpge')\n",
    "fcev_economy = 650/1.61/5.6/1.0\n",
    "print(fcev_economy, ' mpge')"
   ]
  },
  {
   "cell_type": "markdown",
   "metadata": {},
   "source": [
    "* The value for EVs is an average. Some vehicles have higher fuel economies. For example: Tesla S Performance: range = 348 miles, pattery pack = 100 kWh. [1](https://www.fueleconomy.gov/feg/pdfs/guides/FEG2021.pdf)\n",
    "\n",
    "* The calculated fuel economy of the Toyota Mirai is close to the official number.\n",
    "However, the official fuel economy of the Toyota 2021 Mirai is lower. It is 67/64 mpge.\n",
    "We will adopt 67 mpge for the rest of the calculations. [2](https://www.toyota.com/rde/mlp/mirai/2021) (Accessed on 12/21/20)"
   ]
  },
  {
   "cell_type": "code",
   "execution_count": 14,
   "metadata": {},
   "outputs": [
    {
     "name": "stdout",
     "output_type": "stream",
     "text": [
      "1 kWh of electricity makes 0.11111111111111112 gasoline gallons\n",
      "1 kg of H2 makes 2.4031351671103223 gasoline gallons\n"
     ]
    }
   ],
   "source": [
    "ev_equivalence = ev_economy/30 * 0.031\n",
    "print('1 kWh of electricity makes {0} gasoline gallons'.format(ev_equivalence))\n",
    "\n",
    "fcev_equivalence = fcev_economy/30 * 1\n",
    "print('1 kg of H2 makes {0} gasoline gallons'.format(fcev_equivalence))\n"
   ]
  },
  {
   "cell_type": "markdown",
   "metadata": {},
   "source": [
    "To clarify:\n",
    "* 1 kWh produces the same amount of energy than 0.031 gallons of gasoline.\n",
    "* An EV covers the same number of miles with 1 kWh than 0.11 gallon of gasoline.\n",
    "* 1 kg of H2 produces the same amount of energy than 1.0 gallon of gasoline.\n",
    "* An FCEV covers the same number of miles with 1 kg than 2.4 gallon of gasoline."
   ]
  },
  {
   "cell_type": "markdown",
   "metadata": {},
   "source": [
    "## EVs capital investment:\n",
    "* 2018 Sedan, BEV-250 (Battery Electric Vehicles w/ 250-mile range): \\$ 58,000 / 75 kWh [1](https://theicct.org/sites/default/files/publications/EV_cost_2020_2030_20190401.pdf).\n",
    "\n",
    "* 2018 SUV, BEV-250: \\$ 83,000 / 128 kWh [1](https://theicct.org/sites/default/files/publications/EV_cost_2020_2030_20190401.pdf).\n",
    "\n",
    "## FCEVs capital investment:\n",
    "* 2017 Toyota Mirai: \\$ 57,000 [1](https://www.hydrogen.energy.gov/pdfs/progress17/v_e_5_james_2017.pdf) / 5.6 kg [2](https://h2.live/en/wasserstoffautos/toyota-mirai#:~:text=The%20carbon%20fibre%2Dreinforced%20plastic,a%20range%20of%20500%20km.)\n",
    "\n",
    "* 2020 Hiunday Nexo (SUV): \\$ 58,735 [1](https://www.hyundaiusa.com/us/en/vehicles/nexo) / 6.33 kg [2](https://h2.live/en/wasserstoffautos/toyota-mirai#:~:text=The%20carbon%20fibre%2Dreinforced%20plastic,a%20range%20of%20500%20km.)\n",
    "\n",
    "* Nikola Motor (pickup truck): \\$ 80,000 [3](https://www.forbes.com/sites/alanohnsman/2020/06/29/hydrogen-truckmaker-nikola-opens-badger-pickup-reservationsahead-of-production-plans/?sh=259f195332ba) / 8 kg [4](https://nikolamotor.com/badger). Not sure about the last one, it seems like they will never make a single vehicle."
   ]
  },
  {
   "cell_type": "code",
   "execution_count": 6,
   "metadata": {},
   "outputs": [
    {
     "name": "stdout",
     "output_type": "stream",
     "text": [
      "0.0007108854166666667 M$/kWh\n",
      "0.022931787634408604 M$/GGE\n"
     ]
    }
   ],
   "source": [
    "evcost = []\n",
    "evcost.append(58000/75)\n",
    "evcost.append(83000/128)\n",
    "print(np.average(np.array(evcost))/1e6, 'M$/kWh')\n",
    "print(np.average(np.array(evcost))/1e6/0.031, 'M$/GGE')"
   ]
  },
  {
   "cell_type": "code",
   "execution_count": 5,
   "metadata": {},
   "outputs": [
    {
     "name": "stdout",
     "output_type": "stream",
     "text": [
      "0.011645367862784925 M$/kg\n",
      "0.011645367862784925 M$/GGE\n"
     ]
    }
   ],
   "source": [
    "fcevcost = []\n",
    "fcevcost.append(57000/5.6)\n",
    "fcevcost.append(83000/6.33)\n",
    "print(np.average(np.array(fcevcost))/1e6, 'M$/kg')\n",
    "print(np.average(np.array(fcevcost))/1.0/1e6, 'M$/GGE')"
   ]
  },
  {
   "cell_type": "markdown",
   "metadata": {},
   "source": [
    "## EVs Lifetime\n",
    "\n",
    "* Car lifetime: 150,000 km [1]\n",
    "\n",
    "* Tesla: 8 year or 150,000 mi (Model S) [2]\n",
    "\n",
    "## FCEVs Lifetime\n",
    "\n",
    "* 8-year / 100,000-mile FCEV (Toyota Mirai) [3]\n",
    "\n",
    "* Fuel Cell lifetime: 150,000 - 200,000 miles [4]\n",
    "\n",
    "\n",
    "### References:\n",
    "\n",
    "[1] Hall and Lutsey. Effects of battery manufacturing on electric vehicle life-cycle greenhouse gas emissions. ICCT Briefing. 2018. [1](https://theicct.org/sites/default/files/publications/EV-life-cycle-GHG_ICCT-Briefing_09022018_vF.pdf)\n",
    "\n",
    "[2] Tesla support. Accessed on 12/18/20.\n",
    "[2](https://www.tesla.com/support/vehicle-warranty#:~:text=The%20Battery%20and%20Drive%20Unit,capacity%20over%20the%20warranty%20period.)\n",
    "\n",
    "[3] Toyota Mirai. Accessed on 12/18/20. [3](https://staging.toyota.com/mirai/2020/ownership-experience.html#module-portraits_of_pioneers)\n",
    "\n",
    "[4] California Fuel Cell Partnership (CAFCP). Frequently Asked Questions.\n",
    "[4](https://cafcp.org/sites/default/files/FCEV_factbooklet.pdf)\n"
   ]
  },
  {
   "cell_type": "markdown",
   "metadata": {},
   "source": [
    "## Waste\n",
    "\n",
    "It seems like the most meaningful contribution to the e-waste is from the battery packs.\n",
    "\n",
    "* lifetime_consumption = total_milage / range * battery_capacity * to_gallons\n",
    "\n",
    "* specific_waste = mass / lifetime_consumption\n",
    "\n",
    "## EVs waste\n",
    "\n",
    "* battery pack mass: 464 kg (average between 385 and 544kg) [1]\n",
    "\n",
    "* range: 250 mi [3]\n",
    "\n",
    "* battery pack capacity: 75 kWh [3]\n",
    "\n",
    "* energy equivalency: 1kWh ~ 0.031 gallons [3]\n",
    "\n",
    "\n",
    "## FCEVs waste (Based on Toyota 2021 Mirai)\n",
    "\n",
    "* battery pack mass: 44.6 kg (1.24 kWh) [2]\n",
    "\n",
    "* range: 403 mi [4]\n",
    "\n",
    "* tank capacity: 5.6 kg [4]\n",
    "\n",
    "* energy equivalency: 1 kg ~ 1 gallon\n",
    "\n",
    "\n",
    "### References:\n",
    "\n",
    "[1] Berjoza and Jurgena. INFLUENCE OF BATTERIES WEIGHT ON ELECTRIC AUTOMOBILE PERFORMANCE. 16th International Scientific Conference Engineering for Rural Development. 2017. [1](http://tf.llu.lv/conference/proceedings2017/Papers/N316.pdf)\n",
    "\n",
    "[2] Toyota. 2021 Mirai Full Specs. Accessed on 12/18/20. [2](toyota.com/mirai/features/mileage_estimates/3002/3003)\n",
    "\n",
    "[3] [3](https://theicct.org/sites/default/files/publications/EV_cost_2020_2030_20190401.pdf)\n",
    "\n",
    "[4] [4](https://h2.live/en/wasserstoffautos/toyota-mirai#:~:text=The%20carbon%20fibre%2Dreinforced%20plastic,a%20range%20of%20500%20km.)\n",
    "\n",
    "### More:\n",
    "\n",
    "Contains some info of the material composition of the batteries.\n",
    "\n",
    "Slowik, Lutsey, Hsu. How Technology, Recycling, and Policy can Mitigate Supply Risks to the Long-Term Transition to Zero-Emission Vehicles. The International Council on Clean Transportation. December 2020. [1](http://www.zevalliance.org/wp-content/uploads/2020/12/zev-supply-risks-dec2020.pdf)\n",
    "\n"
   ]
  },
  {
   "cell_type": "code",
   "execution_count": 3,
   "metadata": {},
   "outputs": [
    {
     "name": "stdout",
     "output_type": "stream",
     "text": [
      "332.6164874551971 kg/kGal\n"
     ]
    }
   ],
   "source": [
    "mass = 464  # [kg]\n",
    "lifetime_consumption = 150e3 / 250 * 75 * 0.031\n",
    "specific_waste = mass/lifetime_consumption\n",
    "print(specific_waste*1e3, 'kg/kGal')"
   ]
  },
  {
   "cell_type": "code",
   "execution_count": 1,
   "metadata": {},
   "outputs": [
    {
     "name": "stdout",
     "output_type": "stream",
     "text": [
      "21.39738095238096 kg/kGal\n"
     ]
    }
   ],
   "source": [
    "mass = 44.6  # [kg]\n",
    "lifetime_consumption = 150e3 / 403 * 5.6 * 1.0\n",
    "specific_waste = mass/lifetime_consumption\n",
    "print(specific_waste*1e3, 'kg/kGal')"
   ]
  },
  {
   "cell_type": "markdown",
   "metadata": {},
   "source": [
    "# Existing Capacity"
   ]
  },
  {
   "cell_type": "code",
   "execution_count": 6,
   "metadata": {},
   "outputs": [
    {
     "name": "stdout",
     "output_type": "stream",
     "text": [
      "Unleaded: 0.04665673515981735 kgal/h\n",
      "Diesel: 0.013336529680365297 kgal/h\n",
      "E85: 0.0029368721461187214 kgal/h\n"
     ]
    }
   ],
   "source": [
    "# Total of vehicles owned by UIUC\n",
    "import numpy as np\n",
    "import pandas as pd\n",
    "\n",
    "df = pd.read_csv('../fuel-analysis/2019grossfueldata.csv')\n",
    "unleaded = df['unleaded (gallons)'].tolist()[-1]\n",
    "diesel = df['diesel (gallons)'].tolist()[-1]\n",
    "e85 = df['E85 (gallons)'].tolist()[-1]\n",
    "\n",
    "print(f'Unleaded: {unleaded/1e3/8760} kgal/h')\n",
    "print(f'Diesel: {diesel/1e3/8760} kgal/h')\n",
    "print(f'E85: {e85/1e3/8760} kgal/h')"
   ]
  },
  {
   "cell_type": "markdown",
   "metadata": {},
   "source": [
    "# MinActivity"
   ]
  },
  {
   "cell_type": "code",
   "execution_count": 7,
   "metadata": {},
   "outputs": [
    {
     "name": "stdout",
     "output_type": "stream",
     "text": [
      "Unleaded: 408.713 kgal\n",
      "Diesel: 116.828 kgal\n",
      "E85: 25.727 kgal\n"
     ]
    }
   ],
   "source": [
    "# Total of vehicles owned by UIUC\n",
    "import numpy as np\n",
    "import pandas as pd\n",
    "\n",
    "df = pd.read_csv('../fuel-analysis/2019grossfueldata.csv')\n",
    "unleaded = df['unleaded (gallons)'].tolist()[-1]\n",
    "diesel = df['diesel (gallons)'].tolist()[-1]\n",
    "e85 = df['E85 (gallons)'].tolist()[-1]\n",
    "\n",
    "print(f'Unleaded: {unleaded/1e3} kgal')\n",
    "print(f'Diesel: {diesel/1e3} kgal')\n",
    "print(f'E85: {e85/1e3} kgal')"
   ]
  },
  {
   "cell_type": "markdown",
   "metadata": {},
   "source": [
    "# Conventional vehicles\n",
    "\n",
    "Lifetime: 25 years [1]\n",
    "\n",
    "## References\n",
    "\n",
    "1. US DOT. Vehicle Survivability and Travel Mileage Schedules. Technical Report. National Center for Statistics and Analysis. 2006. [link](https://crashstats.nhtsa.dot.gov/Api/Public/ViewPublication/809952)"
   ]
  }
 ],
 "metadata": {
  "kernelspec": {
   "display_name": "Python 3",
   "language": "python",
   "name": "python3"
  },
  "language_info": {
   "codemirror_mode": {
    "name": "ipython",
    "version": 3
   },
   "file_extension": ".py",
   "mimetype": "text/x-python",
   "name": "python",
   "nbconvert_exporter": "python",
   "pygments_lexer": "ipython3",
   "version": "3.8.3"
  }
 },
 "nbformat": 4,
 "nbformat_minor": 4
}
