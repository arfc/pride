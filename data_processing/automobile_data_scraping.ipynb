{
 "cells": [
  {
   "cell_type": "markdown",
   "metadata": {},
   "source": [
    "# Vehicle Data Scraping"
   ]
  },
  {
   "cell_type": "markdown",
   "metadata": {},
   "source": [
    "Source: https://pythoninoffice.com/get-table-data-from-web-page-using-python-pandas/\n",
    "        https://pandas.pydata.org/pandas-docs/stable/reference/api/pandas.DataFrame.notna.html#pandas.DataFrame.notna  \n",
    "        https://www.fueleconomy.gov/feg/PowerSearch"
   ]
  },
  {
   "cell_type": "code",
   "execution_count": 1,
   "metadata": {},
   "outputs": [],
   "source": [
    "import pandas as pd\n",
    "import numpy as np\n",
    "import re\n",
    "import bs4 as bs\n",
    "import requests"
   ]
  },
  {
   "cell_type": "markdown",
   "metadata": {},
   "source": [
    "fueleconomy.gov has tabulated data for all kinds of automobiles. Let's use the `read_html` function in `pandas` to scrape the website for this data. Notice these URLs are quite long. This is because I have several filters from the powersearch feature on the website activated to exclude luxury vehicle brands and focus on vehicle types that are in the UIUC fleet."
   ]
  },
  {
   "cell_type": "code",
   "execution_count": 382,
   "metadata": {},
   "outputs": [],
   "source": [
    "diesel_url = 'https://www.fueleconomy.gov/feg/PowerSearch.do?action=PowerSearch&year1=2018&year2=2021&cbmkAcura=Acura&cbmkBYD=BYD&cbmkChevrolet=Chevrolet&cbmkChrysler=Chrysler&cbmkDodge=Dodge&cbmkFiat=Fiat&cbmkFord=Ford&cbmkGMC=GMC&cbmkHonda=Honda&cbmkHyundai=Hyundai&cbmkJeep=Jeep&cbmkKia=Kia&cbmkMazda=Mazda&cbmkMitsubishi=Mitsubishi&cbmkNissan=Nissan&cbmkRam=Ram&cbmkSubaru=Subaru&cbmkToyota=Toyota&cbmkVolkswagen=Volkswagen&cbmkVolvo=Volvo&cbmcfamilySedans=Family+Sedans&cbmclargeSedans=Large+Sedans&cbmcpickupTrucks=Pickup+Trucks&cbmcsportUtilityVehicles=Sport+Utility+Vehicles&cbmcminivans=Minivans&cbmcvans=Vans&minmsrpsel=0&maxmsrpsel=0&city=0&highway=0&combined=0&cbftdiesel=Diesel&YearSel=2018-2021&MakeSel=Acura%3B+BYD%3B+Chevrolet%3B+Chrysler%3B+Dodge%3B+Fiat%3B+Ford%3B+GMC%3B+Honda%3B+Hyundai%3B+Jeep%3B+Kia%3B+Mazda%3B+Mitsubishi%3B+Nissan%3B+Ram%3B+Subaru%3B+Toyota%3B+Volkswagen%3B+Volvo&MarClassSel=Family+Sedans%2C+Large+Sedans%2C+Pickup+Trucks%2C+Sport+Utility+Vehicles%2C+Minivans%2C+Vans&FuelTypeSel=Diesel&VehTypeSel=&TranySel=&DriveTypeSel=&CylindersSel=&MpgSel=000&sortBy=Comb&Units=&url=SearchServlet&opt=new&minmsrp=0&maxmsrp=0&minmpg=0&maxmpg=0&sCharge=&tCharge=&startstop=&cylDeact=&rowLimit=200'\n",
    "electric_url = 'https://www.fueleconomy.gov/feg/PowerSearch.do?action=PowerSearch&year1=2018&year2=2021&cbmkAcura=Acura&cbmkBYD=BYD&cbmkChevrolet=Chevrolet&cbmkChrysler=Chrysler&cbmkDodge=Dodge&cbmkFiat=Fiat&cbmkFord=Ford&cbmkGMC=GMC&cbmkHonda=Honda&cbmkHyundai=Hyundai&cbmkJeep=Jeep&cbmkKia=Kia&cbmkMazda=Mazda&cbmkMitsubishi=Mitsubishi&cbmkNissan=Nissan&cbmkRam=Ram&cbmkSubaru=Subaru&cbmkToyota=Toyota&cbmkVolkswagen=Volkswagen&cbmkVolvo=Volvo&cbmcfamilySedans=Family+Sedans&cbmclargeSedans=Large+Sedans&cbmcpickupTrucks=Pickup+Trucks&cbmcsportUtilityVehicles=Sport+Utility+Vehicles&cbmcminivans=Minivans&cbmcvans=Vans&minmsrpsel=0&maxmsrpsel=0&city=0&highway=0&combined=0&cbvtelectric=Electric&YearSel=2018-2021&MakeSel=Acura%3B+BYD%3B+Chevrolet%3B+Chrysler%3B+Dodge%3B+Fiat%3B+Ford%3B+GMC%3B+Honda%3B+Hyundai%3B+Jeep%3B+Kia%3B+Mazda%3B+Mitsubishi%3B+Nissan%3B+Ram%3B+Subaru%3B+Toyota%3B+Volkswagen%3B+Volvo&MarClassSel=Family+Sedans%2C+Large+Sedans%2C+Pickup+Trucks%2C+Sport+Utility+Vehicles%2C+Minivans%2C+Vans&FuelTypeSel=&VehTypeSel=Electric&TranySel=&DriveTypeSel=&CylindersSel=&MpgSel=000&sortBy=Comb&Units=&url=SearchServlet&opt=new&minmsrp=0&maxmsrp=0&minmpg=0&maxmpg=0&sCharge=&tCharge=&startstop=&cylDeact=&rowLimit=200'\n",
    "e85_url = 'https://www.fueleconomy.gov/feg/PowerSearch.do?action=PowerSearch&year1=2018&year2=2021&cbmkAcura=Acura&cbmkBYD=BYD&cbmkChevrolet=Chevrolet&cbmkChrysler=Chrysler&cbmkDodge=Dodge&cbmkFiat=Fiat&cbmkFord=Ford&cbmkGMC=GMC&cbmkHonda=Honda&cbmkHyundai=Hyundai&cbmkJeep=Jeep&cbmkKia=Kia&cbmkMazda=Mazda&cbmkMitsubishi=Mitsubishi&cbmkNissan=Nissan&cbmkRam=Ram&cbmkSubaru=Subaru&cbmkToyota=Toyota&cbmkVolkswagen=Volkswagen&cbmkVolvo=Volvo&cbmcfamilySedans=Family+Sedans&cbmclargeSedans=Large+Sedans&cbmcpickupTrucks=Pickup+Trucks&cbmcsportUtilityVehicles=Sport+Utility+Vehicles&cbmcminivans=Minivans&cbmcvans=Vans&minmsrpsel=0&maxmsrpsel=0&city=0&highway=0&combined=0&cbfte85=E85&YearSel=2018-2021&MakeSel=Acura%3B+BYD%3B+Chevrolet%3B+Chrysler%3B+Dodge%3B+Fiat%3B+Ford%3B+GMC%3B+Honda%3B+Hyundai%3B+Jeep%3B+Kia%3B+Mazda%3B+Mitsubishi%3B+Nissan%3B+Ram%3B+Subaru%3B+Toyota%3B+Volkswagen%3B+Volvo&MarClassSel=Family+Sedans%2C+Large+Sedans%2C+Pickup+Trucks%2C+Sport+Utility+Vehicles%2C+Minivans%2C+Vans&FuelTypeSel=E85&VehTypeSel=&TranySel=&DriveTypeSel=&CylindersSel=&MpgSel=000&sortBy=Comb&Units=&url=SearchServlet&opt=new&minmsrp=0&maxmsrp=0&minmpg=0&maxmpg=0&sCharge=&tCharge=&startstop=&cylDeact=&rowLimit=200'\n",
    "#gasoline_url = 'https://www.fueleconomy.gov/feg/PowerSearch.do?action=PowerSearch&year1=2018&year2=2021&cbmkAcura=Acura&cbmkBYD=BYD&cbmkChevrolet=Chevrolet&cbmkChrysler=Chrysler&cbmkDodge=Dodge&cbmkFiat=Fiat&cbmkFord=Ford&cbmkGMC=GMC&cbmkHonda=Honda&cbmkHyundai=Hyundai&cbmkJeep=Jeep&cbmkKia=Kia&cbmkMazda=Mazda&cbmkMitsubishi=Mitsubishi&cbmkNissan=Nissan&cbmkRam=Ram&cbmkSubaru=Subaru&cbmkToyota=Toyota&cbmkVolkswagen=Volkswagen&cbmkVolvo=Volvo&cbmcfamilySedans=Family+Sedans&cbmclargeSedans=Large+Sedans&cbmcpickupTrucks=Pickup+Trucks&cbmcsportUtilityVehicles=Sport+Utility+Vehicles&cbmcminivans=Minivans&cbmcvans=Vans&minmsrpsel=0&maxmsrpsel=0&city=0&highway=0&combined=0&cbvtgasoline=Gasoline&YearSel=2018-2021&MakeSel=Acura%3B+BYD%3B+Chevrolet%3B+Chrysler%3B+Dodge%3B+Fiat%3B+Ford%3B+GMC%3B+Honda%3B+Hyundai%3B+Jeep%3B+Kia%3B+Mazda%3B+Mitsubishi%3B+Nissan%3B+Ram%3B+Subaru%3B+Toyota%3B+Volkswagen%3B+Volvo&MarClassSel=Family+Sedans%2C+Large+Sedans%2C+Pickup+Trucks%2C+Sport+Utility+Vehicles%2C+Minivans%2C+Vans&FuelTypeSel=&VehTypeSel=Gasoline&TranySel=&DriveTypeSel=&CylindersSel=&MpgSel=000&sortBy=Comb&Units=&url=SearchServlet&opt=new&minmsrp=0&maxmsrp=0&minmpg=0&maxmpg=0&sCharge=&tCharge=&startstop=&cylDeact=&rowLimit=1453'\n",
    "gasoline_url = 'https://www.fueleconomy.gov/feg/PowerSearch.do?action=noform&year1=2018&year2=2021&cbmkAcura=Acura&cbmkBYD=BYD&cbmkChevrolet=Chevrolet&cbmkChrysler=Chrysler&cbmkDodge=Dodge&cbmkFiat=Fiat&cbmkFord=Ford&cbmkGMC=GMC&cbmkHonda=Honda&cbmkHyundai=Hyundai&cbmkJeep=Jeep&cbmkKia=Kia&cbmkMazda=Mazda&cbmkMitsubishi=Mitsubishi&cbmkNissan=Nissan&cbmkRam=Ram&cbmkSubaru=Subaru&cbmkToyota=Toyota&cbmkVolkswagen=Volkswagen&cbmkVolvo=Volvo&cbmcfamilySedans=Family+Sedans&cbmclargeSedans=Large+Sedans&cbmcpickupTrucks=Pickup+Trucks&cbmcsportUtilityVehicles=Sport+Utility+Vehicles&cbmcminivans=Minivans&cbmcvans=Vans&minmsrpsel=0&maxmsrpsel=0&city=0&hwy=0&comb=0&cbvtgasoline=Gasoline&YearSel=2018-2021&make=Acura%3B+BYD%3B+Chevrolet%3B+Chrysler%3B+Dodge%3B+Fiat%3B+Ford%3B+GMC%3B+Honda%3B+Hyundai%3B+Jeep%3B+Kia%3B+Mazda%3B+Mitsubishi%3B+Nissan%3B+Ram%3B+Subaru%3B+Toyota%3B+Volkswagen%3B+Volvo&mclass=Family+Sedans%2C+Large+Sedans%2C+Pickup+Trucks%2C+Sport+Utility+Vehicles%2C+Minivans%2C+Vans&vfuel=&vtype=Gasoline&trany=&drive=&cyl=&MpgSel=000&sortBy=Comb&Units=&url=SearchServlet&opt=new&minmsrp=0&maxmsrp=0&minmpg=0&maxmpg=0&sCharge=&tCharge=&startstop=&cylDeact=&rowLimit=1453&pageno=1&tabView=0&tabView=0'"
   ]
  },
  {
   "cell_type": "code",
   "execution_count": 7,
   "metadata": {},
   "outputs": [],
   "source": [
    "diesel = pd.read_html(diesel_url)[0]\n",
    "electric = pd.read_html(electric_url)[0]\n",
    "e85 = pd.read_html(e85_url)[0]\n",
    "gasoline = pd.read_html(gasoline_url)[0]"
   ]
  },
  {
   "cell_type": "markdown",
   "metadata": {},
   "source": [
    "The web-scraped data has all kinds of formatting issues in pandas, so we will need to clean it up a bit. I wrote the following functions to do exactly this."
   ]
  },
  {
   "cell_type": "code",
   "execution_count": 8,
   "metadata": {},
   "outputs": [],
   "source": [
    "def convert_to_string (arr):\n",
    "    \"\"\"\n",
    "    This function converts object arrays to string arrays\n",
    "    \n",
    "    Parameters:\n",
    "    -----------\n",
    "    arr : array of objects\n",
    "    \n",
    "    Returns:\n",
    "    --------\n",
    "    str_arr : float\n",
    "            Array of strings\n",
    "            \n",
    "    \"\"\"\n",
    "    str_arr = np.array([])\n",
    "    for a in arr:\n",
    "        str_arr = np.append(str_arr, str(a))\n",
    "    return str_arr\n",
    "\n",
    "\n",
    "def split_dash (s):\n",
    "    \"\"\"\n",
    "    This function splits a string along any dashes it might have.\n",
    "    \n",
    "    Parameters:\n",
    "    -----------\n",
    "    s : string\n",
    "    \n",
    "    Returns:\n",
    "    --------\n",
    "    s_arr : strings\n",
    "            Array of strings\n",
    "    \"\"\"\n",
    "    return re.split('[–]', s)\n",
    "\n",
    "\n",
    "def split_slash (s):\n",
    "    \"\"\"\n",
    "    This function splits a string along any forward slashes it might have.\n",
    "    \n",
    "    Parameters:\n",
    "    -----------\n",
    "    s : string\n",
    "    \n",
    "    Returns:\n",
    "    --------\n",
    "    s_arr : strings\n",
    "            Array of strings\n",
    "    \"\"\"\n",
    "    return re.split('[/]', s)\n",
    "\n",
    "def split_gal (s):\n",
    "    \"\"\"\n",
    "    This function splits a string along 'gal' substrings\n",
    "    \n",
    "    Parameters:\n",
    "    -----------\n",
    "    s : string\n",
    "    \n",
    "    Returns:\n",
    "    --------\n",
    "    s_arr : strings\n",
    "            Array of strings\n",
    "    \"\"\"\n",
    "    return re.split('[gal]', s)"
   ]
  },
  {
   "cell_type": "code",
   "execution_count": 404,
   "metadata": {},
   "outputs": [],
   "source": [
    "def get_avg_msrp (df):\n",
    "    \"\"\"\n",
    "    This function takes the data table fron fueleconomy.gov\n",
    "    and returns the average of the MSRP values listed there.\n",
    "    \n",
    "    Parameters:\n",
    "    -----------\n",
    "    df : pandas dataframe\n",
    "        THe return value of pd.read_html()\n",
    "    \n",
    "    Returns:\n",
    "    --------\n",
    "    avg : float\n",
    "        Average of the MSRP data\n",
    "        \n",
    "    \"\"\"\n",
    "    \n",
    "    # Get rid of NaN MSRP values\n",
    "    df = df[df['MSRP'].notna()]\n",
    "    \n",
    "    # Pick out MSRP entries that have a dollar sign\n",
    "    df = df[df['MSRP'].str.contains('\\$')]\n",
    "    \n",
    "    # Convert these to string form\n",
    "    msrp_string = convert_to_string(df['MSRP'].values)\n",
    "    \n",
    "    # Many of the MSRPs are a given as a range between a lower and upper limit\n",
    "    # of values. We want to take the average of this range.\n",
    "    msrp_string = map(split_dash, msrp_string)\n",
    "    msrp_num = np.array([])\n",
    "    for s in msrp_string:\n",
    "        if (len(s) == 2):\n",
    "            s[0] = float(s[0][1:].replace(',',''))\n",
    "            s[1] = float(s[1][1:].replace(',',''))\n",
    "            s = (s[0] + s[1]) / 2\n",
    "        else:\n",
    "            s = float(s[0][1:].replace (',',''))\n",
    "            \n",
    "        msrp_num = np.append(msrp_num, s)\n",
    "            \n",
    "    return np.average(msrp_num)\n",
    "    "
   ]
  },
  {
   "cell_type": "code",
   "execution_count": 10,
   "metadata": {},
   "outputs": [],
   "source": [
    "def get_avg_mileage (df):\n",
    "    \"\"\"\n",
    "    This function takes the data table fron fueleconomy.gov\n",
    "    and returns the average of the mileage (gal/100mi)\n",
    "    listed there.\n",
    "    \n",
    "    Parameters:\n",
    "    -----------\n",
    "    df : pandas dataframe\n",
    "        The return value of pd.read_html()\n",
    "    \n",
    "    Returns:\n",
    "    --------\n",
    "    avg : float\n",
    "        Average of the mileage data\n",
    "        \n",
    "    \"\"\"\n",
    "    \n",
    "    # Get rid of NaN mileage values\n",
    "    df = df[df['DriverMPG'].notna()]\n",
    "    \n",
    "    # Pick out mileage entries in the gal/100 mi formal\n",
    "    df = df[df['DriverMPG'].str.contains('/100')]\n",
    "    \n",
    "    # Convert these to string form\n",
    "    mileage_string = convert_to_string(df['DriverMPG'].values)\n",
    "    \n",
    "    mileage_num = np.array([])\n",
    "    for s in mileage_string:\n",
    "        mileage_num = np.append(mileage_num, float(re.split('[ gal]', s)[0]))\n",
    "            \n",
    "    return np.average(mileage_num)"
   ]
  },
  {
   "cell_type": "code",
   "execution_count": 406,
   "metadata": {},
   "outputs": [],
   "source": [
    "def get_vehicle_params (url):\n",
    "    \"\"\"\n",
    "    This function takes the link from a fueleconomy.gov\n",
    "    powersearch and returns an average of various parameters\n",
    "    about the search. Currently, the function only returns\n",
    "    average MSRP and average fuel tank size.\n",
    "    \n",
    "    Parameters:\n",
    "    -----------\n",
    "    url : url string\n",
    "        A url from a fueleconomy.gov powersearch\n",
    "        \n",
    "    Returns:\n",
    "    --------\n",
    "    avg_msrp : float\n",
    "    \n",
    "    avg_ft_size: float\n",
    "    \"\"\"\n",
    "    \n",
    "    # a helper function we pass to the find_all procedure in BeautifulSoup\n",
    "    def testfunc (href):\n",
    "        return href and re.compile(\"action=sbs\").search(href)\n",
    "    \n",
    "    slug = 'https://www.fueleconomy.gov/feg/'\n",
    "    \n",
    "    # where we will get all the juicy goodness\n",
    "    search_page = bs.BeautifulSoup(requests.get(url).text, 'html.parser')\n",
    "    \n",
    "    ## Vehicle parameters\n",
    "    # MSRP\n",
    "    ms = search_page.find_all('td', class_='msrp')\n",
    "    # Link to detailed vehicle page\n",
    "    #inks =  #find all the entires in the table that have links to the car page\n",
    "    \n",
    "    tanks = np.array([])\n",
    "    msrps = np.array([])\n",
    "    i = 0\n",
    "    for l in search_page.table.find_all(href=testfunc):\n",
    "        #Check if there is an MSRP value\n",
    "        msrp = re.split('[\\W]+[\\W]+', ms[i].text)\n",
    "        if (len(msrp) > 2):\n",
    "            # Parse and average the MSRP value if given a range\n",
    "            if (len(msrp) == 3):\n",
    "                msrp = float(msrp[1].replace(',',''))\n",
    "            else:\n",
    "                s = float(msrp[1].replace(',',''))\n",
    "                s += float(msrp[2].replace(',','')) \n",
    "                msrp = s/2\n",
    "\n",
    "            tank_size = 0\n",
    "        \n",
    "            #putting this on one line to save space in memory\n",
    "            gal = bs.BeautifulSoup(requests.get(slug + l['href']).text, 'html.parser').find('th', string = re.compile('Tank Size')).next_sibling.string\n",
    "            #gal = car_page\n",
    "\n",
    "            #Get the tank size and parse if given a range\n",
    "            gal_string = re.split('[-]', re.split(' ', gal)[0])\n",
    "            \n",
    "            #Average the tank value if given a range\n",
    "            if (len(gal_string) == 2):\n",
    "                tank_size = (float(gal_string[0]) + float(gal_string[1])) / 2\n",
    "            elif (gal_string[0] != ''):\n",
    "                tank_size = float(gal_string[0])\n",
    "            #print(tank_size)\n",
    "            if(tank_size != 0):\n",
    "                tanks = np.append(tanks, tank_size)\n",
    "                msrps = np.append(msrps, msrp)\n",
    "        i += 1\n",
    "    return np.average(tanks), np.average(msrps)"
   ]
  },
  {
   "cell_type": "markdown",
   "metadata": {},
   "source": [
    "With our functions defined and ready to go, we just need to call them with the relevant vehicle data:"
   ]
  },
  {
   "cell_type": "code",
   "execution_count": 396,
   "metadata": {},
   "outputs": [],
   "source": [
    "diesel_params = get_vehicle_params(diesel_url)\n",
    "e85_params = get_vehicle_params(e85_url)\n",
    "gasoline_params = get_vehicle_params(gasoline_url)"
   ]
  },
  {
   "cell_type": "markdown",
   "metadata": {},
   "source": [
    "# MSRP"
   ]
  },
  {
   "cell_type": "code",
   "execution_count": 405,
   "metadata": {},
   "outputs": [
    {
     "name": "stdout",
     "output_type": "stream",
     "text": [
      "Diesel: 0.03759027272727273 M$\n",
      "Electric: 0.04111 M$\n",
      "E85: 0.03795976744186046 M$\n",
      "Gasoline: 0.027040851612903222 M$\n"
     ]
    }
   ],
   "source": [
    "diesel_msrp = 1e-6 * diesel_params[1]#get_avg_msrp(diesel)\n",
    "electric_msrp = 1e-6 * get_avg_msrp(electric)\n",
    "e85_msrp = 1e-6 * e85_params[1]#get_avg_msrp(e85)\n",
    "gasoline_msrp = 1e-6 * gasoline_params[1]#get_avg_msrp(gasoline)\n",
    "\n",
    "print(f'Diesel: {diesel_msrp} M$')\n",
    "print(f'Electric: {electric_msrp} M$')\n",
    "print(f'E85: {e85_msrp} M$')\n",
    "print(f'Gasoline: {gasoline_msrp} M$')"
   ]
  },
  {
   "cell_type": "markdown",
   "metadata": {},
   "source": [
    "# Mileage"
   ]
  },
  {
   "cell_type": "code",
   "execution_count": 407,
   "metadata": {},
   "outputs": [
    {
     "name": "stdout",
     "output_type": "stream",
     "text": [
      "Diesel: 4.1329268292682935gal/100mi\n",
      "E85: 6.300387596899225gal/100mi\n",
      "Gasoline: 6.300387596899225gal/100mi\n"
     ]
    }
   ],
   "source": [
    "diesel_mileage = get_avg_mileage(diesel)\n",
    "e85_mileage = get_avg_mileage(e85) #gallons per 100 miles\n",
    "gasoline_mileage = get_avg_mileage(e85) #gallons per 100 miles\n",
    "\n",
    "print(f'Diesel: {diesel_mileage}gal/100mi')\n",
    "print(f'E85: {e85_mileage}gal/100mi')\n",
    "print(f'Gasoline: {gasoline_mileage}gal/100mi')"
   ]
  },
  {
   "cell_type": "markdown",
   "metadata": {},
   "source": [
    "# Tank Size"
   ]
  },
  {
   "cell_type": "code",
   "execution_count": 398,
   "metadata": {},
   "outputs": [
    {
     "name": "stdout",
     "output_type": "stream",
     "text": [
      "Diesel: 21.46181818181818 gallons\n",
      "E85: 25.537209302325586 gallons\n",
      "Gasoline: 14.965161290322582 gallons\n"
     ]
    }
   ],
   "source": [
    "diesel_tank_size = diesel_params[0]\n",
    "e85_tank_size = e85_params[0]\n",
    "gasoline_tank_size = gasoline_params[0]\n",
    "\n",
    "print(f'Diesel: {diesel_tank_size} gallons')\n",
    "print(f'E85: {e85_tank_size} gallons')\n",
    "print(f'Gasoline: {gasoline_tank_size} gallons')"
   ]
  },
  {
   "cell_type": "markdown",
   "metadata": {},
   "source": [
    "# CostInvest"
   ]
  },
  {
   "cell_type": "code",
   "execution_count": 400,
   "metadata": {},
   "outputs": [
    {
     "name": "stdout",
     "output_type": "stream",
     "text": [
      "Diesel :0.0017514952558454764 M$/gal\n",
      "E85: 0.0014864493215554135 M$/gal\n",
      "Gasoline: 0.0018069201586480425 M$/gal\n"
     ]
    }
   ],
   "source": [
    "IMPGSL = 0.00222 #M$/kgal\n",
    "IMPDSL = 0.00248 #M$/kgal\n",
    "IMPE85 = 0.00199 #M$/kgal\n",
    "lifetime_mileage = 179954 #[1]\n",
    "\n",
    "diesel_cost = diesel_msrp / diesel_tank_size #(diesel_mileage*lifetime_mileage/100)\n",
    "e85_cost = e85_msrp / e85_tank_size #(e85_mileage*lifetime_mileage/100)\n",
    "gasoline_cost = gasoline_msrp / gasoline_tank_size #(gasoline_mileage*lifetime_mileage/100)\n",
    "\n",
    "print(f'Diesel :{diesel_cost} M$/gal')\n",
    "print(f'E85: {e85_cost} M$/gal')\n",
    "print(f'Gasoline: {gasoline_cost} M$/gal')"
   ]
  },
  {
   "cell_type": "markdown",
   "metadata": {},
   "source": [
    "# CostFixed"
   ]
  },
  {
   "cell_type": "code",
   "execution_count": 403,
   "metadata": {},
   "outputs": [
    {
     "name": "stdout",
     "output_type": "stream",
     "text": [
      "Diesel: 0.0018795136363636365 M$\n",
      "Electric: 0.0020555 M$\n",
      "E85: 0.0018979883720930233 M$\n",
      "Gasoline: 0.0013520425806451612 M$\n"
     ]
    }
   ],
   "source": [
    "#assume fixed costs are 5% of MSRP annually\n",
    "diesel_fixed = 0.05 * diesel_msrp\n",
    "electric_fixed = 0.05 * electric_msrp\n",
    "e85_fixed = 0.05 * e85_msrp\n",
    "gasoline_fixed = 0.05 * gasoline_msrp\n",
    "\n",
    "print(f'Diesel: {diesel_fixed} M$')\n",
    "print(f'Electric: {electric_fixed} M$')\n",
    "print(f'E85: {e85_fixed} M$')\n",
    "print(f'Gasoline: {gasoline_fixed} M$')"
   ]
  },
  {
   "cell_type": "markdown",
   "metadata": {},
   "source": [
    "## References\n",
    "\n",
    "1. US DOT. Vehicle Survivability and Travel Mileage Schedules. Technical Report. National Center for Statistics and Analysis. 2006. [link](https://crashstats.nhtsa.dot.gov/Api/Public/ViewPublication/809952)"
   ]
  },
  {
   "cell_type": "code",
   "execution_count": 376,
   "metadata": {},
   "outputs": [
    {
     "data": {
      "text/plain": [
       "False"
      ]
     },
     "execution_count": 376,
     "metadata": {},
     "output_type": "execute_result"
    }
   ],
   "source": [
    "f = requests.get(gasoline_url).text\n",
    "slug = 'https://www.fueleconomy.gov/feg/'\n",
    "search_page = bs.BeautifulSoup(f, 'html.parser')\n",
    "msrps = search_page.find_all('td', class_='msrp')\n",
    "links = search_page.table.find_all(href=testfunc)\n",
    "i = 2\n",
    "link = requests.get(slug + links[i]['href']).text\n",
    "msrp = msrps[i]\n",
    "car_page = bs.BeautifulSoup(link, 'html.parser')\n",
    "gal = car_page.find('th', string = re.compile('Tank Size')).next_sibling.string\n",
    "gal_string = re.split('[-]', re.split(' ', gal)[0])\n",
    "if (len(gal_string) == 2):\n",
    "    tank_size = (float(gal_string[0]) + float(gal_string[1])) / 2\n",
    "elif (gal_string[0] != ''):\n",
    "    tank_size = float(gal_string[0])\n",
    "g"
   ]
  },
  {
   "cell_type": "code",
   "execution_count": 379,
   "metadata": {},
   "outputs": [
    {
     "data": {
      "text/plain": [
       "['', '23,645', '']"
      ]
     },
     "execution_count": 379,
     "metadata": {},
     "output_type": "execute_result"
    }
   ],
   "source": [
    "re.split('[\\W]+[\\W]+', msrp.text)"
   ]
  },
  {
   "cell_type": "code",
   "execution_count": 394,
   "metadata": {},
   "outputs": [],
   "source": []
  },
  {
   "cell_type": "code",
   "execution_count": null,
   "metadata": {},
   "outputs": [],
   "source": []
  }
 ],
 "metadata": {
  "kernelspec": {
   "display_name": "Python 3",
   "language": "python",
   "name": "python3"
  },
  "language_info": {
   "codemirror_mode": {
    "name": "ipython",
    "version": 3
   },
   "file_extension": ".py",
   "mimetype": "text/x-python",
   "name": "python",
   "nbconvert_exporter": "python",
   "pygments_lexer": "ipython3",
   "version": "3.8.5"
  }
 },
 "nbformat": 4,
 "nbformat_minor": 4
}
