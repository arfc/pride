{
 "cells": [
  {
   "cell_type": "markdown",
   "metadata": {},
   "source": [
    "# Waste Calculator\n",
    "\n",
    "This jupyter notebook will calculate the solid e-waste produced by solar, wind, and nuclear energy on a per unit energy basis. Sources for assumptions will be included.\n",
    "\n",
    "First we will calculate the waste produced by the solar farm at UIUC"
   ]
  },
  {
   "cell_type": "markdown",
   "metadata": {},
   "source": [
    "## Solar: \n",
    "Cost per MWh: $45.99 \\[[source](https://fs.illinois.edu/services/utilities-energy/production/solar-farms)\\]\n",
    "\n",
    "Mass of Commercial Panel: ~50 pounds \\[[source](https://brightstarsolar.net/common-sizes-of-solar-panels/), \n",
    "[source](https://www.vivintsolar.com/learning-center/how-big-is-a-solar-panel)\\]\n",
    "\n",
    "Average Capacity Factor: ~17\\% \\[[source](https://go.illinois.edu/solar)\\]\n",
    "\n",
    "Expected Lifespan of Module: 30 years \\[[source](https://www.irena.org/publications/2016/Jun/End-of-life-management-Solar-Photovoltaic-Panels)\\]\n",
    "\n",
    "[UIUC Solar Farm Data](https://icap.sustainability.illinois.edu/files/project/175/Solar%20Farm%20Fact%20Sheet_0.pdf)"
   ]
  },
  {
   "cell_type": "code",
   "execution_count": 1,
   "metadata": {},
   "outputs": [],
   "source": [
    "rated_power = 4.68  # MW\n",
    "average_cf = 0.17\n",
    "n_mod = 18867\n",
    "mod_weight = 50 / 2.205  # pounds to kg\n",
    "life = 30  # years"
   ]
  },
  {
   "cell_type": "code",
   "execution_count": 2,
   "metadata": {},
   "outputs": [],
   "source": [
    "def expected_output(power, capfac, lifespan):\n",
    "    hours = 8760\n",
    "    expected = (power*hours)*capfac*lifespan\n",
    "    \n",
    "    return expected"
   ]
  },
  {
   "cell_type": "code",
   "execution_count": 3,
   "metadata": {},
   "outputs": [
    {
     "name": "stdout",
     "output_type": "stream",
     "text": [
      "Expected Power Output of UIUC solar farm 1.0: 209083.68 MWh\n"
     ]
    }
   ],
   "source": [
    "sf_output = expected_output(rated_power, average_cf, life)\n",
    "print(f\"Expected Power Output of UIUC solar farm 1.0: {sf_output} MWh\")"
   ]
  },
  {
   "cell_type": "code",
   "execution_count": 4,
   "metadata": {},
   "outputs": [],
   "source": [
    "def waste_per_mwh(mass_waste, generation):\n",
    "    \"\"\"\n",
    "    Calculates waste per MWh. Generation is expected in MWh\n",
    "    and mass_waste is expected in kg.\n",
    "    \"\"\"\n",
    "    \n",
    "    waste = mass_waste/generation \n",
    "    return waste"
   ]
  },
  {
   "cell_type": "code",
   "execution_count": 5,
   "metadata": {},
   "outputs": [
    {
     "name": "stdout",
     "output_type": "stream",
     "text": [
      "UIUC Solar Farm 1.0 will produce 2.046181362656811 kg/MWh of solar panel waste.\n"
     ]
    }
   ],
   "source": [
    "sf_mass = n_mod * mod_weight  # kg\n",
    "sf_waste = waste_per_mwh(sf_mass, sf_output)\n",
    "print(f\"UIUC Solar Farm 1.0 will produce {sf_waste} kg/MWh of solar panel waste.\")"
   ]
  },
  {
   "cell_type": "markdown",
   "metadata": {},
   "source": [
    "## Wind Power\n",
    "\n",
    "UIUC has a PPA with Railsplitter Wind Farm. Which uses GE SLE 1.5MW wind turbines.\n",
    "\n",
    "The weight to power ratio (t/MW): ~ 12.9 t/MW [source](https://www.sciencedirect.com/science/article/pii/S0956053X17300491)\n",
    "\n",
    "Lifespan: ~ 20 years [source](https://www.sciencedirect.com/science/article/pii/S0956053X17300491)\n",
    "\n",
    "Power = 100.5 MW [source](https://railsplitterwindfarm.com/)\n",
    "\n",
    "Average Capacity Factor IL: 35\\% [source](https://icap.sustainability.illinois.edu/files/project/2235/RailSplitter-Wind%20Farm-9.6.16.pdf)"
   ]
  },
  {
   "cell_type": "code",
   "execution_count": 6,
   "metadata": {},
   "outputs": [],
   "source": [
    "rated_power = 100.5  # MW\n",
    "weight_power = 12.9*1000  # kg/MW\n",
    "average_cf = 0.35\n",
    "life = 20  # years"
   ]
  },
  {
   "cell_type": "code",
   "execution_count": 7,
   "metadata": {},
   "outputs": [
    {
     "name": "stdout",
     "output_type": "stream",
     "text": [
      "Expected Power Output of Railsplitter Wind Farm: 209083.68 MWh\n"
     ]
    }
   ],
   "source": [
    "wf_output = expected_output(rated_power, average_cf, life)\n",
    "print(f\"Expected Power Output of Railsplitter Wind Farm: {sf_output} MWh\")"
   ]
  },
  {
   "cell_type": "code",
   "execution_count": 8,
   "metadata": {},
   "outputs": [
    {
     "name": "stdout",
     "output_type": "stream",
     "text": [
      "Railsplitter Wind Farm will produce 0.21037181996086105 kg/MWh of turbine waste.\n"
     ]
    }
   ],
   "source": [
    "wf_mass = weight_power * rated_power\n",
    "wf_waste = waste_per_mwh(wf_mass, wf_output)\n",
    "print(f\"Railsplitter Wind Farm will produce {wf_waste} kg/MWh of turbine waste.\")"
   ]
  },
  {
   "cell_type": "markdown",
   "metadata": {},
   "source": [
    "## Nuclear Power\n",
    "A slightly different calculation needs to be done because the nuclear waste is \"spent nuclear fuel.\"\n",
    "The only figure I can find for nuclear waste produced annually is from a DOE factsheet that states \"2000 tons per year.\" [source](https://www.energy.gov/ne/articles/5-fast-facts-about-spent-nuclear-fuel)\n",
    "\n",
    "In 2019, U.S. nuclear produced 809,409,000 MWh of electricity. [source](https://www.eia.gov/energyexplained/nuclear/us-nuclear-industry.php#:~:text=In%202019%2C%20the%20nuclear%20share,electricity%20generation%20was%20about%2020%25.)\n",
    "\n",
    "For this calculation, though, we care about waste per MWh(th) because the nuclear technology in TEMOA produces steam alone (which can then be used to produce electricity or district heating)."
   ]
  },
  {
   "cell_type": "code",
   "execution_count": 9,
   "metadata": {},
   "outputs": [
    {
     "name": "stdout",
     "output_type": "stream",
     "text": [
      "Nuclear plants will produce approximately 0.0008154097619374136 kg/MWh(th) of spent nuclear fuel.\n"
     ]
    }
   ],
   "source": [
    "np_mass = 2000 * 1000 # tons --> kg\n",
    "nuc_gen = 809409000/0.33  # MWh(th)\n",
    "np_waste = waste_per_mwh(np_mass, nuc_gen)\n",
    "print(f\"Nuclear plants will produce approximately {np_waste} kg/MWh(th) of spent nuclear fuel.\")"
   ]
  },
  {
   "cell_type": "code",
   "execution_count": null,
   "metadata": {},
   "outputs": [],
   "source": []
  }
 ],
 "metadata": {
  "kernelspec": {
   "display_name": "Python 3",
   "language": "python",
   "name": "python3"
  },
  "language_info": {
   "codemirror_mode": {
    "name": "ipython",
    "version": 3
   },
   "file_extension": ".py",
   "mimetype": "text/x-python",
   "name": "python",
   "nbconvert_exporter": "python",
   "pygments_lexer": "ipython3",
   "version": "3.7.3"
  }
 },
 "nbformat": 4,
 "nbformat_minor": 4
}
